{
 "cells": [
  {
   "cell_type": "markdown",
   "id": "joint-commission",
   "metadata": {},
   "source": [
    "## Importing necessary libraries and packages"
   ]
  },
  {
   "cell_type": "code",
   "execution_count": 8,
   "id": "therapeutic-horse",
   "metadata": {},
   "outputs": [],
   "source": [
    "import pandas\n",
    "import numpy\n",
    "import matplotlib.pyplot"
   ]
  },
  {
   "cell_type": "markdown",
   "id": "aquatic-optics",
   "metadata": {},
   "source": [
    "## Loading the data from csv file"
   ]
  },
  {
   "cell_type": "code",
   "execution_count": 9,
   "id": "guilty-photographer",
   "metadata": {},
   "outputs": [],
   "source": [
    "data_table = pandas.read_csv('/Users/banks007/SVM_model/Tables/historical_table1.csv')"
   ]
  },
  {
   "cell_type": "markdown",
   "id": "administrative-diagnosis",
   "metadata": {},
   "source": [
    "## Separating table into independent variables (x) and outcome (y) "
   ]
  },
  {
   "cell_type": "code",
   "execution_count": 10,
   "id": "severe-denial",
   "metadata": {},
   "outputs": [],
   "source": [
    "# independent variables (known parameters) is 11 columns of \n",
    "# values/parameter used to determine the outcome value\n",
    "# outcome is 1 column of value (0 or 1)\n",
    "\n",
    "known_param = data_table[['req_priority', 'tech_rank', 'opport', 'support_type', 'source_req',\n",
    "       'proj_type', 'type_feature', 'bu', 'numProd_line', 'total_effort']]\n",
    "\n",
    "x = numpy.asarray(known_param)\n",
    "y = numpy.asarray(data_table['release'])"
   ]
  },
  {
   "cell_type": "markdown",
   "id": "divided-gallery",
   "metadata": {},
   "source": [
    "## Splitting data into training dataset and testing dataset"
   ]
  },
  {
   "cell_type": "code",
   "execution_count": 11,
   "id": "catholic-palmer",
   "metadata": {},
   "outputs": [],
   "source": [
    "# Test dataset X and Y\n",
    "# \n",
    "#x_test.shape\n",
    "#y_traain.shape\n",
    "\n",
    "# x_train (1457 rows, 10 columns)\n",
    "# x_test (365 rows, 10 columns)\n",
    "\n",
    "# y_train (1457 rows, 1 columns)\n",
    "# y_test (365 rows, 1 columns)\n",
    "\n",
    "from sklearn.model_selection import train_test_split\n",
    "x_train, x_test, y_train, y_test = train_test_split(x, y, test_size = 0.2, random_state=4)"
   ]
  },
  {
   "cell_type": "markdown",
   "id": "virtual-dressing",
   "metadata": {},
   "source": [
    "## Applying SVM Modeling to Data with Scikit-learn"
   ]
  },
  {
   "cell_type": "code",
   "execution_count": 12,
   "id": "stupid-commercial",
   "metadata": {},
   "outputs": [],
   "source": [
    "from sklearn import svm\n",
    "\n",
    "# kernel = type of algorithm used\n",
    "# c = penalty \n",
    "# the SVM classifier is configured with parameters to used to learn the dataset\n",
    "classifier = svm.SVC(kernel='linear', gamma='auto', C=2) \n",
    "\n",
    "# the fit method is call to train the model with the train dataset\n",
    "classifier.fit(x_train, y_train)\n",
    "\n",
    "# the predict method is called and it uses the x_test data set to try and predict the outcome\n",
    "# the outcome predicted is then checked agains the actual outcome from table and accuracy of the\n",
    "# accuracy of the model prediction is recorded and presented in the result table below\n",
    "y_predict = classifier.predict(x_test)"
   ]
  },
  {
   "cell_type": "markdown",
   "id": "promotional-square",
   "metadata": {},
   "source": [
    "## Using the model to generate result"
   ]
  },
  {
   "cell_type": "code",
   "execution_count": 13,
   "id": "cathedral-model",
   "metadata": {},
   "outputs": [
    {
     "name": "stdout",
     "output_type": "stream",
     "text": [
      "              precision    recall  f1-score   support\n",
      "\n",
      "           0       0.93      0.76      0.84        17\n",
      "           1       0.88      0.97      0.92        30\n",
      "\n",
      "    accuracy                           0.89        47\n",
      "   macro avg       0.90      0.87      0.88        47\n",
      "weighted avg       0.90      0.89      0.89        47\n",
      "\n"
     ]
    }
   ],
   "source": [
    "from sklearn.metrics import classification_report\n",
    "\n",
    "print(classification_report(y_test, y_predict))"
   ]
  },
  {
   "cell_type": "code",
   "execution_count": null,
   "id": "comic-connectivity",
   "metadata": {},
   "outputs": [],
   "source": []
  }
 ],
 "metadata": {
  "kernelspec": {
   "display_name": "Python 3",
   "language": "python",
   "name": "python3"
  },
  "language_info": {
   "codemirror_mode": {
    "name": "ipython",
    "version": 3
   },
   "file_extension": ".py",
   "mimetype": "text/x-python",
   "name": "python",
   "nbconvert_exporter": "python",
   "pygments_lexer": "ipython3",
   "version": "3.8.5"
  }
 },
 "nbformat": 4,
 "nbformat_minor": 5
}
